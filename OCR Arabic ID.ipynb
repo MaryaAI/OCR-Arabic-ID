{
 "cells": [
  {
   "cell_type": "code",
   "execution_count": null,
   "id": "61784d26",
   "metadata": {},
   "outputs": [],
   "source": [
    "#pip install pytesseract Pillow"
   ]
  },
  {
   "cell_type": "code",
   "execution_count": null,
   "id": "dff892e6",
   "metadata": {},
   "outputs": [],
   "source": [
    "#pip install opencv-python"
   ]
  },
  {
   "cell_type": "code",
   "execution_count": 1,
   "id": "a26c78b1",
   "metadata": {},
   "outputs": [],
   "source": [
    "import pytesseract\n",
    "from PIL import Image, ImageDraw\n",
    "\n",
    "# Specify path to the Tesseract binary\n",
    "# pytesseract.pytesseract.tesseract_cmd = r'<path_to_your_tesseract_executable>'\n",
    "\n",
    "def extract_arabic_text_with_bounding_boxes(image_path, output_file_path):\n",
    "    # Open the image\n",
    "    img = Image.open(image_path)\n",
    "    draw = ImageDraw.Draw(img)\n",
    "\n",
    "    # Use Tesseract to detect text and bounding boxes\n",
    "    data = pytesseract.image_to_data(img, lang='ara', output_type=pytesseract.Output.DICT)\n",
    "    \n",
    "    # Open the output file\n",
    "    with open(output_file_path, 'w', encoding='utf-8') as file:\n",
    "        # Filter out empty text and draw bounding boxes\n",
    "        for i in range(len(data['text'])):\n",
    "            if int(data['conf'][i]) > 60:  # Confidence threshold\n",
    "                (x, y, w, h) = (data['left'][i], data['top'][i], data['width'][i], data['height'][i])\n",
    "                draw.rectangle((x, y, x + w, y + h), outline='red')\n",
    "                detected_text = f\"Detected text: {data['text'][i]} (Confidence: {data['conf'][i]}%)\"\n",
    "                file.write(detected_text + '\\n')\n",
    "\n",
    "    # Display or save the image with bounding boxes\n",
    "    img.show()\n",
    "    img.save(r\"C:\\Users\\ASUS\\Desktop\\OCR\\output.jpg\")# to save the image\n",
    "\n",
    "# Example usage\n",
    "image_path = r\"C:\\Users\\ASUS\\Desktop\\i3.jpg\"\n",
    "output_file_path = r\"C:\\Users\\ASUS\\Desktop\\OCR\\output.txt\"  # Define the path to your output file\n",
    "extract_arabic_text_with_bounding_boxes(image_path, output_file_path)\n"
   ]
  },
  {
   "cell_type": "code",
   "execution_count": null,
   "id": "9dfdc8bb",
   "metadata": {},
   "outputs": [],
   "source": []
  }
 ],
 "metadata": {
  "kernelspec": {
   "display_name": "Python 3 (ipykernel)",
   "language": "python",
   "name": "python3"
  },
  "language_info": {
   "codemirror_mode": {
    "name": "ipython",
    "version": 3
   },
   "file_extension": ".py",
   "mimetype": "text/x-python",
   "name": "python",
   "nbconvert_exporter": "python",
   "pygments_lexer": "ipython3",
   "version": "3.11.3"
  }
 },
 "nbformat": 4,
 "nbformat_minor": 5
}
